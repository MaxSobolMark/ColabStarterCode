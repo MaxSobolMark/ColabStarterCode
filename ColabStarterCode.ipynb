{
  "nbformat": 4,
  "nbformat_minor": 0,
  "metadata": {
    "colab": {
      "name": "ColabStarterCode.ipynb",
      "version": "0.3.2",
      "provenance": [],
      "collapsed_sections": []
    },
    "kernelspec": {
      "name": "python3",
      "display_name": "Python 3"
    }
  },
  "cells": [
    {
      "cell_type": "markdown",
      "metadata": {
        "id": "oDKEQGk7Dswl",
        "colab_type": "text"
      },
      "source": [
        "# Colab Starter Code"
      ]
    },
    {
      "cell_type": "markdown",
      "metadata": {
        "id": "lIZwlG7aGCkF",
        "colab_type": "text"
      },
      "source": [
        "## Imports"
      ]
    },
    {
      "cell_type": "code",
      "metadata": {
        "id": "d-invmv6GB6f",
        "colab_type": "code",
        "colab": {}
      },
      "source": [
        "import os\n",
        "from google.colab import drive\n",
        "\n",
        "import tensorflow as tf\n",
        "import numpy as np\n",
        "\n",
        "from tensorflow.contrib.tensorboard.plugins import projector\n",
        "\n",
        "!pip install tensorboardcolab\n",
        "from tensorboardcolab import TensorBoardColab\n",
        "\n",
        "import cv2\n",
        "import numpy as np\n",
        "\n",
        "import tensorflow_hub as hub\n",
        "\n",
        "import datetime\n",
        "\n",
        "import matplotlib.pyplot as plt\n",
        "\n",
        "import time\n",
        "\n",
        "import pprint\n",
        "\n",
        "import math"
      ],
      "execution_count": 0,
      "outputs": []
    },
    {
      "cell_type": "markdown",
      "metadata": {
        "id": "TFkiXUbgGaTC",
        "colab_type": "text"
      },
      "source": [
        "## Functions"
      ]
    },
    {
      "cell_type": "code",
      "metadata": {
        "id": "zKz-oig6CzAb",
        "colab_type": "code",
        "colab": {}
      },
      "source": [
        "def _upload_ssh():\n",
        "    print(\"Please upload your SSH key\")\n",
        "    uploaded = files.upload()\n",
        "    \n",
        "    ! rm -rf /root/.ssh/*\n",
        "    ! mkdir /root/.ssh\n",
        "    ! cp id* /root/.ssh\n",
        "    ! chmod 400 /root/.ssh\n",
        "    ! chmod 400 /root/.ssh/*\n",
        "    !ssh-keyscan bitbucket.org >> /root/.ssh/known_hosts\n",
        "    \n",
        "def _mount_drive(drive_path='/content/gdrive/colab_hdd'):\n",
        "    drive.mount(drive_path, force_remount=True)\n",
        "    \n",
        "\n",
        "def _clone_repository(repository_url):\n",
        "    os.chdir('/content/')\n",
        "    repository_name = repository_url.split('/')[-1].split('.')[0]\n",
        "    !rm -rf /content/$repository_name\n",
        "    !git clone $repository_url\n",
        "\n",
        "def init_tensorboard():\n",
        "    global tbc\n",
        "    timestamp = datetime.datetime.now().strftime('%Y%m%d%H%M%S')\n",
        "    save_path = '/content/{}/summaries/{}/'.format(_project_name, timestamp)\n",
        "    tbc = TensorBoardColab(graph_path=save_path)\n",
        "    global summary_writer\n",
        "    summary_writer = tf.summary.FileWriter(save_path, tf.get_default_graph())\n",
        "    \n",
        "def init_tpu_session():\n",
        "    if 'COLAB_TPU_ADDR' not in os.environ:\n",
        "        print('ERROR: Not connected to a TPU runtime. Runtime -> Change runtime type -> Hardware accelerator.')\n",
        "    else:\n",
        "        tpu_address = 'grpc://' + os.environ['COLAB_TPU_ADDR']\n",
        "        print ('TPU address is', tpu_address)\n",
        "        \n",
        "    global sess\n",
        "    sess = tf.Session(tpu_address)\n",
        "    \n",
        "    devices = sess.list_devices()\n",
        "\n",
        "    print('TPU devices:')\n",
        "    pprint.pprint(devices)"
      ],
      "execution_count": 0,
      "outputs": []
    },
    {
      "cell_type": "markdown",
      "metadata": {
        "id": "hn73TSJ_Igbi",
        "colab_type": "text"
      },
      "source": [
        "### Code for embedding visualization"
      ]
    },
    {
      "cell_type": "code",
      "metadata": {
        "id": "APUoys5JF_mE",
        "colab_type": "code",
        "colab": {}
      },
      "source": [
        "def visualize_embeddings(embeddings, metadata, experiment_name='default'):\n",
        "    \"\"\"Save the embeddings to be visualised using t-sne on TensorBoard\n",
        "    \n",
        "    Based on https://medium.com/@vegi/visualizing-higher-dimensional-data-using-t-sne-on-tensorboard-7dbf22682cf2\n",
        "    \n",
        "    Metadata example:\n",
        "        video_index\\tframe_index\\n\n",
        "        {}\\t{}\\n\n",
        "    \"\"\"\n",
        "    tf_embeddings = tf.Variable(np.concatenate(embeddings, 0))\n",
        "\n",
        "    metadata_path = '/content/{}/embeddings/{}/labels.tsv'.format(_project_name, experiment_name)\n",
        "    with open(metadata_path, 'w') as metadata_file:\n",
        "        metadata_file.write(metadata)\n",
        "\n",
        "\n",
        "    saver = tf.train.Saver([tf_embeddings])\n",
        "    sess.run(tf_embeddings.initializer)\n",
        "    saver.save(sess, '/content/{}/embeddings/{}/embeddings.ckpt'.format(_project_name, experiment_name))\n",
        "    config = projector.ProjectorConfig()\n",
        "\n",
        "    embedding = config.embeddings.add()\n",
        "\n",
        "    embedding.tensor_name = tf_embeddings.name\n",
        "    embedding.metadata_path = metadata_path.split('/')[-1]\n",
        "\n",
        "    projector.visualize_embeddings(tf.summary.FileWriter('/content/{}/embeddings/{}'.format(_project_name, experiment_name)), config)"
      ],
      "execution_count": 0,
      "outputs": []
    },
    {
      "cell_type": "code",
      "metadata": {
        "id": "oxDzx3bXI-RL",
        "colab_type": "code",
        "colab": {}
      },
      "source": [
        "def setup(project_name=\"DefaultProject\", clone_repo=True, repo_url=\"\", use_ssh=True, mount_drive=True, drive_folder='colab_hdd', use_tensorboard=True, use_tpu=True):\n",
        "    global _project_name, _repo_url\n",
        "    _project_name = project_name\n",
        "    if clone_repo:\n",
        "        if use_ssh:\n",
        "            _upload_ssh()\n",
        "        _clone_repository(repo_url)\n",
        "        _repo_url = repo_url\n",
        "    if mount_drive:\n",
        "        _mount_drive(drive_folder)\n",
        "    if use_tensorboard:\n",
        "        init_tensorboard()\n",
        "    init_tpu_session()\n",
        "    global sess\n",
        "    sess = tf.Session()"
      ],
      "execution_count": 0,
      "outputs": []
    },
    {
      "cell_type": "markdown",
      "metadata": {
        "id": "0MdneE3FIUHP",
        "colab_type": "text"
      },
      "source": [
        "# Project"
      ]
    },
    {
      "cell_type": "code",
      "metadata": {
        "id": "IFgZwmVeOFgM",
        "colab_type": "code",
        "colab": {}
      },
      "source": [
        "project_name = 'Default' #@param {type:\"string\"}\n",
        "clone_repo = False #@param {type:\"boolean\"}\n",
        "repo_url = \"\" #@param {type:\"string\"}\n",
        "use_ssh = False #@param {type:\"boolean\"}\n",
        "mount_drive = True #@param {type:\"boolean\"}\n",
        "drive_folder = 'colab_hdd' #@param {type:\"string\"}\n",
        "use_tensorboard = False #@param {type:\"boolean\"}\n",
        "use_tpu = True #@param {type:\"boolean\"}\n",
        "\n",
        "setup(project_name=project_name, clone_repo=clone_repo, use_ssh=use_ssh, \n",
        "      repo_url=repo_url, mount_drive=mount_drive, drive_folder=drive_folder,\n",
        "      use_tensorboard=use_tensorboard, use_tpu=use_tpu\n",
        "     )"
      ],
      "execution_count": 0,
      "outputs": []
    }
  ]
}
